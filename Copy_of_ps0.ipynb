{
  "cells": [
    {
      "cell_type": "markdown",
      "metadata": {
        "id": "view-in-github",
        "colab_type": "text"
      },
      "source": [
        "<a href=\"https://colab.research.google.com/github/Rygilbert/Rygilbert/blob/main/Copy_of_ps0.ipynb\" target=\"_parent\"><img src=\"https://colab.research.google.com/assets/colab-badge.svg\" alt=\"Open In Colab\"/></a>"
      ]
    },
    {
      "cell_type": "markdown",
      "metadata": {
        "id": "qakJwx_8Knzg"
      },
      "source": [
        "# Problem Set 0\n",
        "#### CMSI 1010: Computer Programming and Lab"
      ]
    },
    {
      "cell_type": "markdown",
      "metadata": {
        "id": "AJRJZ2bMKnzp"
      },
      "source": [
        "## Important Dates\n",
        "\n",
        " - Released: 2022-01-18 at 12:00 am [PT]\n",
        " - Deadline: 2022-01-25 at 11:59 pm [PT]"
      ]
    },
    {
      "cell_type": "markdown",
      "metadata": {
        "id": "6QVwHS9MKnzr"
      },
      "source": [
        "## Learning Objectives\n",
        "\n",
        "Students will practice (1) writing a program in a text editor, (2) using comments to document the program, (3) writing Python in the web using Glitch, and (4) using python commands manipulate strings and variables. Students may collaborate by talking to each other or helping each other, but the final submission _must be individual_ and collaborators must be credited."
      ]
    },
    {
      "cell_type": "markdown",
      "metadata": {
        "id": "ga7iz9fSKnzt"
      },
      "source": [
        "# Question 1: Reading Notes\n",
        "* Chapter 1 in the _Think Python_ textbook: http://greenteapress.com/thinkpython2/thinkpython2.pdf\n",
        "* Dr. Ray Toal's CMSI notes:\n",
        "    * Computing: https://cs.lmu.edu/~ray/notes/computing/\n",
        "    * Computer Science: https://cs.lmu.edu/~ray/notes/computerscience/"
      ]
    },
    {
      "cell_type": "markdown",
      "metadata": {
        "id": "PGwkkDrXKnzv"
      },
      "source": [
        "Once you have studied the reading notes, write a summary in the text cell below."
      ]
    },
    {
      "cell_type": "markdown",
      "metadata": {
        "id": "Z2e6n23oKnzw"
      },
      "source": [
        "--Type your notes here--"
      ]
    },
    {
      "cell_type": "markdown",
      "metadata": {
        "id": "7kkQ9vEBKnzy"
      },
      "source": [
        "# Question 2"
      ]
    },
    {
      "cell_type": "markdown",
      "metadata": {
        "id": "4q89M0-_Knz0"
      },
      "source": [
        "### Part A\n",
        "In this question you will write code that prints “Hello, `<your name>`!!!” like below. \n",
        "\n",
        "    ***************************************\n",
        "    *                                     *\n",
        "    *        Hello, Harry Potter!!!       *\n",
        "    *                                     *\n",
        "    ***************************************\n",
        "\n",
        "**Hint:** _You will need to use more than one `print` command._ You should put each command on a new line."
      ]
    },
    {
      "cell_type": "code",
      "execution_count": null,
      "metadata": {
        "id": "CdBxc_JrKnz2",
        "outputId": "87d6a00d-ed5e-4301-ae28-54824547659e",
        "colab": {
          "base_uri": "https://localhost:8080/"
        }
      },
      "outputs": [
        {
          "output_type": "stream",
          "name": "stdout",
          "text": [
            "*****************************************\n",
            " \n",
            "*                                       *\n",
            " \n",
            "*     Hello, Ryan Gilbert !!!           *\n",
            " \n",
            "*                                       *\n",
            " \n",
            "*****************************************\n"
          ]
        }
      ],
      "source": [
        "print(\"*****************************************\")\n",
        "print(\" \")\n",
        "print(\"*                                       *\")\n",
        "print(\" \")\n",
        "print(\"*     Hello, Ryan Gilbert !!!           *\")\n",
        "print(\" \")\n",
        "print(\"*                                       *\")\n",
        "print(\" \")\n",
        "print(\"*****************************************\")"
      ]
    },
    {
      "cell_type": "markdown",
      "metadata": {
        "id": "JaobpOsGKnz5"
      },
      "source": [
        "### Part B\n",
        "\n",
        "#### Adding comments\n",
        "At the beginning, your programs will be small and easy to understand. Over time, they’ll get bigger and more complicated. You may want to explain your code to someone else (like to those who are grading it 😊) or understand it yourself at a later date. Instead of having to understand what every line of code does, you can add comments to your code that explain what you were trying to do.\n",
        "\n",
        "You can add a comment using the `#` sign.\n",
        "\n",
        "```python\n",
        "# Print a message to the screen\n",
        "print('hello, lmu!')\n",
        "```\n",
        "\n",
        "Comments are ignored by the computer—you can write anything you want there. Best practice, and what I would like you to do in this class, is to _always document your code_!\n",
        "\n",
        "> There is a nuance to this that will emerge as you get more advanced; but for now, the idea is to remove the friction between you and the act of explaining your intent."
      ]
    },
    {
      "cell_type": "markdown",
      "metadata": {
        "id": "LQVcAntkKnz8"
      },
      "source": [
        "Now edit the program above that you just wrote and add a _multi-line comment_ at the beginning of the file with your name, any collaborators, and a description of what it does. You should do that for all future programs."
      ]
    },
    {
      "cell_type": "code",
      "execution_count": null,
      "metadata": {
        "id": "4zJqT-2iKnz8",
        "colab": {
          "base_uri": "https://localhost:8080/"
        },
        "outputId": "fbf2f01b-12be-41b8-d941-6332a834e46b"
      },
      "outputs": [
        {
          "output_type": "stream",
          "name": "stdout",
          "text": [
            "*****************************************\n",
            " \n",
            "*                                       *\n",
            " \n",
            "*     Hello, Ryan Gilbert !!!           *\n",
            " \n",
            "*                                       *\n",
            " \n",
            "*****************************************\n"
          ]
        }
      ],
      "source": [
        "print(\"*****************************************\")\n",
        "print(\" \")\n",
        "print(\"*                                       *\")\n",
        "print(\" \")\n",
        "print(\"*     Hello, Ryan Gilbert !!!           *\")\n",
        "print(\" \")\n",
        "print(\"*                                       *\")\n",
        "print(\" \")\n",
        "print(\"*****************************************\")\n",
        "# used the print function several times to write a message and create a border"
      ]
    },
    {
      "cell_type": "markdown",
      "metadata": {
        "nbgrader": {
          "grade": false,
          "grade_id": "q1_prompt",
          "locked": true,
          "schema_version": 1,
          "solution": false
        },
        "id": "7s6lS9cDKnz9"
      },
      "source": [
        "# Question 3\n",
        "\n",
        "In this question, you'll write some coding that performs string manipulation. This is pretty much your warm-up.\n",
        "\n",
        "Remember the first cell block is where you put your answer. There may already be some code there, in which case **don't remove it**; just add what is asked for.\n",
        "\n",
        "All the cells under the first one are autograder cells; don't edit those! But you can run them (using the Run button at the top) to test your own code! If they don't spit out any error messages, then your code works!"
      ]
    },
    {
      "cell_type": "markdown",
      "metadata": {
        "collapsed": true,
        "nbgrader": {
          "grade": false,
          "grade_id": "q1a_prompt",
          "locked": true,
          "points": 10,
          "schema_version": 1,
          "solution": false
        },
        "id": "xG41YQP8Knz_"
      },
      "source": [
        "### Part A\n",
        "\n",
        "What's your favorite *positive* number? Create a variable named `favorite_number` and assign it to be your favorite *positive* number."
      ]
    },
    {
      "cell_type": "code",
      "execution_count": null,
      "metadata": {
        "collapsed": true,
        "nbgrader": {
          "grade": false,
          "grade_id": "q1a",
          "locked": false,
          "schema_version": 1,
          "solution": true
        },
        "id": "v5lnUbytKn0A",
        "colab": {
          "base_uri": "https://localhost:8080/"
        },
        "outputId": "e88812a1-d3ec-4b46-d433-d3673414c63e"
      },
      "outputs": [
        {
          "output_type": "stream",
          "name": "stdout",
          "text": [
            "my favorite number is: 2\n"
          ]
        }
      ],
      "source": [
        "favorite_number = 2\n",
        "\n",
        "print(\"my favorite number is: \" + str(favorite_number))\n"
      ]
    },
    {
      "cell_type": "code",
      "execution_count": null,
      "metadata": {
        "collapsed": true,
        "nbgrader": {
          "grade": true,
          "grade_id": "q1a_test",
          "locked": true,
          "points": 6,
          "schema_version": 1,
          "solution": false
        },
        "id": "z17jcMRmKn0A",
        "colab": {
          "base_uri": "https://localhost:8080/"
        },
        "outputId": "acf6d79e-22ff-4413-e686-ec1d70e50964"
      },
      "outputs": [
        {
          "output_type": "stream",
          "name": "stdout",
          "text": [
            "My favorite number is: 2\n"
          ]
        }
      ],
      "source": [
        "print(\"My favorite number is: \" + str(favorite_number))\n",
        "assert favorite_number >= 0"
      ]
    },
    {
      "cell_type": "markdown",
      "metadata": {
        "nbgrader": {
          "grade": false,
          "grade_id": "q1b_prompt",
          "locked": true,
          "schema_version": 1,
          "solution": false
        },
        "id": "08KcW-JqKn0B"
      },
      "source": [
        "### Part B\n",
        "\n",
        "Print out a famous quote! In the code below, create two variables:\n",
        " - one named `famous_person`,\n",
        " - the other named `their_quote`,\n",
        " \n",
        "and assign them to be the name of some famous person and a quote that they said, respectively. Remember: these are *strings*!"
      ]
    },
    {
      "cell_type": "code",
      "execution_count": null,
      "metadata": {
        "collapsed": true,
        "nbgrader": {
          "grade": false,
          "grade_id": "q1b",
          "locked": false,
          "schema_version": 1,
          "solution": true
        },
        "id": "DNzYr6uzKn0C",
        "colab": {
          "base_uri": "https://localhost:8080/"
        },
        "outputId": "bab13171-fcec-47c4-cf3e-313c537a34fc"
      },
      "outputs": [
        {
          "output_type": "stream",
          "name": "stdout",
          "text": [
            "kanye once said I am a God\n"
          ]
        }
      ],
      "source": [
        "famous_person = \"kanye\"\n",
        "\n",
        "their_quote = \" I am a God\"\n",
        "\n",
        "print(famous_person + str(\" once said\") + their_quote)\n"
      ]
    },
    {
      "cell_type": "code",
      "execution_count": null,
      "metadata": {
        "collapsed": true,
        "nbgrader": {
          "grade": true,
          "grade_id": "q1b_test",
          "locked": true,
          "points": 6,
          "schema_version": 1,
          "solution": false
        },
        "id": "gX8YXejJKn0D",
        "colab": {
          "base_uri": "https://localhost:8080/",
          "height": 218
        },
        "outputId": "41cc989a-39f5-4829-c506-d4486c547d85"
      },
      "outputs": [
        {
          "output_type": "error",
          "ename": "NameError",
          "evalue": "ignored",
          "traceback": [
            "\u001b[0;31m---------------------------------------------------------------------------\u001b[0m",
            "\u001b[0;31mNameError\u001b[0m                                 Traceback (most recent call last)",
            "\u001b[0;32m<ipython-input-10-9b835dd2c532>\u001b[0m in \u001b[0;36m<module>\u001b[0;34m()\u001b[0m\n\u001b[0;32m----> 1\u001b[0;31m \u001b[0mprint\u001b[0m\u001b[0;34m(\u001b[0m\u001b[0;34m\"{}, at age {}, said:\\n\\n\\\"{}\\\"\"\u001b[0m\u001b[0;34m.\u001b[0m\u001b[0mformat\u001b[0m\u001b[0;34m(\u001b[0m\u001b[0mfamous_person\u001b[0m\u001b[0;34m,\u001b[0m \u001b[0mfavorite_number\u001b[0m\u001b[0;34m,\u001b[0m \u001b[0mtheir_quote\u001b[0m\u001b[0;34m)\u001b[0m\u001b[0;34m)\u001b[0m\u001b[0;34m\u001b[0m\u001b[0;34m\u001b[0m\u001b[0m\n\u001b[0m\u001b[1;32m      2\u001b[0m \u001b[0;34m\u001b[0m\u001b[0m\n\u001b[1;32m      3\u001b[0m \u001b[0;32massert\u001b[0m \u001b[0mlen\u001b[0m\u001b[0;34m(\u001b[0m\u001b[0mfamous_person\u001b[0m\u001b[0;34m)\u001b[0m \u001b[0;34m>\u001b[0m \u001b[0;36m0\u001b[0m\u001b[0;34m\u001b[0m\u001b[0;34m\u001b[0m\u001b[0m\n\u001b[1;32m      4\u001b[0m \u001b[0;32massert\u001b[0m \u001b[0mlen\u001b[0m\u001b[0;34m(\u001b[0m\u001b[0mtheir_quote\u001b[0m\u001b[0;34m)\u001b[0m \u001b[0;34m>\u001b[0m \u001b[0;36m0\u001b[0m\u001b[0;34m\u001b[0m\u001b[0;34m\u001b[0m\u001b[0m\n",
            "\u001b[0;31mNameError\u001b[0m: name 'favorite_number' is not defined"
          ]
        }
      ],
      "source": [
        "print(\"{}, at age {}, said:\\n\\n\\\"{}\\\"\".format(famous_person, favorite_number, their_quote))\n",
        "\n",
        "assert len(famous_person) > 0\n",
        "assert len(their_quote) > 0"
      ]
    },
    {
      "cell_type": "markdown",
      "metadata": {
        "nbgrader": {
          "grade": false,
          "grade_id": "q1c_prompt",
          "locked": true,
          "schema_version": 1,
          "solution": false
        },
        "id": "aCm2nn60Kn0D"
      },
      "source": [
        "### Part C\n",
        "\n",
        "You're working late on a homework assignment and have copied a few lines from a Wikipedia article. In your tired stupor, your copy/paste skills leave something to be desired. Rather than try to force your mouse hand to stop shaking, you figure it's easier to write a small Python program to strip out errant whitespace from your copying-pasting.\n",
        "\n",
        "**Leaving the code below as-is**, **add more code** that strips away whitespace in the variables `line1`, `line2`, and `line3`.\n",
        "\n",
        "In other words, reassign each of the three variables (keeping their names the same, and their respective content otherwise unaltered) so that the leading and trailing whitespace on both ends is removed."
      ]
    },
    {
      "cell_type": "code",
      "execution_count": null,
      "metadata": {
        "collapsed": true,
        "nbgrader": {
          "grade": false,
          "grade_id": "q1c",
          "locked": false,
          "schema_version": 1,
          "solution": true
        },
        "id": "viueCUM0Kn0E"
      },
      "outputs": [],
      "source": [
        "line1 = 'Python supports multiple programming paradigms, including object-oriented, imperative\\n'\n",
        "line2 = '  and functional programming or procedural styles. It features a dynamic type\\n'\n",
        "line3 = ' system and automatic memory management and has a large and comprehensive standard library.\\n '\n",
        "\n",
        "### BEGIN SOLUTION\n",
        "\n",
        "\n",
        "\n",
        "### END SOLUTION"
      ]
    },
    {
      "cell_type": "code",
      "execution_count": null,
      "metadata": {
        "collapsed": true,
        "nbgrader": {
          "grade": true,
          "grade_id": "q1c_test",
          "locked": true,
          "points": 6,
          "schema_version": 1,
          "solution": false
        },
        "id": "E3cS7F57Kn0F",
        "colab": {
          "base_uri": "https://localhost:8080/",
          "height": 235
        },
        "outputId": "ee92350c-92a2-4a09-cc9c-930334b2a8aa"
      },
      "outputs": [
        {
          "output_type": "error",
          "ename": "AssertionError",
          "evalue": "ignored",
          "traceback": [
            "\u001b[0;31m---------------------------------------------------------------------------\u001b[0m",
            "\u001b[0;31mAssertionError\u001b[0m                            Traceback (most recent call last)",
            "\u001b[0;32m<ipython-input-15-d465a88f6cc5>\u001b[0m in \u001b[0;36m<module>\u001b[0;34m()\u001b[0m\n\u001b[0;32m----> 1\u001b[0;31m \u001b[0;32massert\u001b[0m \u001b[0mline1\u001b[0m\u001b[0;34m[\u001b[0m\u001b[0;34m-\u001b[0m\u001b[0;36m1\u001b[0m\u001b[0;34m]\u001b[0m \u001b[0;34m!=\u001b[0m \u001b[0;34m'\\n'\u001b[0m\u001b[0;34m\u001b[0m\u001b[0;34m\u001b[0m\u001b[0m\n\u001b[0m\u001b[1;32m      2\u001b[0m \u001b[0;32massert\u001b[0m \u001b[0mline2\u001b[0m\u001b[0;34m[\u001b[0m\u001b[0;36m0\u001b[0m\u001b[0;34m]\u001b[0m \u001b[0;34m!=\u001b[0m \u001b[0mline2\u001b[0m\u001b[0;34m[\u001b[0m\u001b[0;36m1\u001b[0m\u001b[0;34m]\u001b[0m \u001b[0;34m!=\u001b[0m \u001b[0;34m' '\u001b[0m\u001b[0;34m\u001b[0m\u001b[0;34m\u001b[0m\u001b[0m\n\u001b[1;32m      3\u001b[0m \u001b[0;32massert\u001b[0m \u001b[0mline2\u001b[0m\u001b[0;34m[\u001b[0m\u001b[0;34m-\u001b[0m\u001b[0;36m1\u001b[0m\u001b[0;34m]\u001b[0m \u001b[0;34m!=\u001b[0m \u001b[0;34m'\\n'\u001b[0m\u001b[0;34m\u001b[0m\u001b[0;34m\u001b[0m\u001b[0m\n\u001b[1;32m      4\u001b[0m \u001b[0;32massert\u001b[0m \u001b[0mline3\u001b[0m\u001b[0;34m[\u001b[0m\u001b[0;36m0\u001b[0m\u001b[0;34m]\u001b[0m \u001b[0;34m!=\u001b[0m \u001b[0;34m' '\u001b[0m\u001b[0;34m\u001b[0m\u001b[0;34m\u001b[0m\u001b[0m\n\u001b[1;32m      5\u001b[0m \u001b[0;32massert\u001b[0m \u001b[0mline3\u001b[0m\u001b[0;34m[\u001b[0m\u001b[0;34m-\u001b[0m\u001b[0;36m1\u001b[0m\u001b[0;34m]\u001b[0m \u001b[0;34m!=\u001b[0m \u001b[0;34m'\\n'\u001b[0m\u001b[0;34m\u001b[0m\u001b[0;34m\u001b[0m\u001b[0m\n",
            "\u001b[0;31mAssertionError\u001b[0m: "
          ]
        }
      ],
      "source": [
        "assert line1[-1] != '\\n'\n",
        "assert line2[0] != line2[1] != ' '\n",
        "assert line2[-1] != '\\n'\n",
        "assert line3[0] != ' '\n",
        "assert line3[-1] != '\\n'"
      ]
    },
    {
      "cell_type": "markdown",
      "metadata": {
        "nbgrader": {
          "grade": false,
          "grade_id": "q1d_prompt",
          "locked": true,
          "schema_version": 1,
          "solution": false
        },
        "id": "FHcKXxDyKn0G"
      },
      "source": [
        "### Part D\n",
        "\n",
        "You discover that there are numbers in the text you'd like to be able to parse out for some math down the road. After stripping out the trailing whitespace, convert the numbers to their proper numerical form.\n",
        "\n",
        "Assign them to the variables `num1`, `num2`, and `num3` respectively."
      ]
    },
    {
      "cell_type": "code",
      "execution_count": null,
      "metadata": {
        "collapsed": true,
        "nbgrader": {
          "grade": false,
          "grade_id": "q1d",
          "locked": false,
          "schema_version": 1,
          "solution": true
        },
        "id": "4tqYd0ctKn0H"
      },
      "outputs": [],
      "source": [
        "line1 = ' 495.59863 \\n'\n",
        "line2 = '\\t134  '\n",
        "line3 = '\\n\\t -5.4 \\t'\n",
        "\n",
        "### BEGIN SOLUTION\n",
        "\n",
        "### END SOLUTION"
      ]
    },
    {
      "cell_type": "code",
      "execution_count": null,
      "metadata": {
        "collapsed": true,
        "nbgrader": {
          "grade": true,
          "grade_id": "q1d_test",
          "locked": true,
          "points": 6,
          "schema_version": 1,
          "solution": false
        },
        "id": "TReOzLr_Kn0I"
      },
      "outputs": [],
      "source": [
        "assert num1 > 495 and num1 < 496\n",
        "assert num2 == 134\n",
        "assert num3 > -6 and num3 < -5"
      ]
    },
    {
      "cell_type": "markdown",
      "metadata": {
        "nbgrader": {
          "grade": false,
          "grade_id": "q1e_prompt",
          "locked": true,
          "schema_version": 1,
          "solution": false
        },
        "id": "80Mi6nOOKn0I"
      },
      "source": [
        "### Part E\n",
        "\n",
        "Take the `number` below, find its square root, convert it to a string, and then assign it to a variable named `str_version`.\n",
        "\n",
        "You **must use the correct arithmetic operator for the square root, as well as the correct casting function for the string conversion**.\n",
        "\n",
        "**No imports allowed!**"
      ]
    },
    {
      "cell_type": "code",
      "execution_count": null,
      "metadata": {
        "collapsed": true,
        "nbgrader": {
          "grade": false,
          "grade_id": "q1e",
          "locked": false,
          "schema_version": 1,
          "solution": true
        },
        "id": "2ofj2wvgKn0J"
      },
      "outputs": [],
      "source": [
        "number = 3.14159265359\n",
        "\n",
        "### BEGIN SOLUTION\n",
        "\n",
        "### END SOLUTION"
      ]
    },
    {
      "cell_type": "code",
      "execution_count": null,
      "metadata": {
        "collapsed": true,
        "nbgrader": {
          "grade": true,
          "grade_id": "q1e_test",
          "locked": true,
          "points": 6,
          "schema_version": 1,
          "solution": false
        },
        "id": "3kN-XenHKn0J"
      },
      "outputs": [],
      "source": [
        "assert str_version == \"1.7724538509055743\""
      ]
    },
    {
      "cell_type": "markdown",
      "metadata": {
        "id": "gQL1gVC9Kn0K"
      },
      "source": [
        "# Question 4"
      ]
    },
    {
      "cell_type": "markdown",
      "metadata": {
        "id": "oI3wrb-NKn0K"
      },
      "source": [
        "### Spiffing up our UFO\n",
        "We will do a code-along to animate a flying UFO in the browser! You can find the code from class here: https://glitch.com/edit/#!/cmsi1010-ufo-python. Your goal is to build on the UFO code (e.g., shine a triangular beam of light, or land a plane). Be creative!\n",
        "\n",
        "1. **First, create your own project on Glitch:** https://glitch.com/\n",
        "You should create a new account. Then select _New Project_ at the top right, using the _hello-webpage_ option. Rename the project by clicking the upper-left corner and typing `MY-NAME-UFO`.\n",
        "2. Copy and paste `index.html` from the starter project to your `index.html`. Then create a new file called `ufo.py`. Copy and paste the code from class to your file. \n",
        "3. To run the code, click _Show_ and select the option on the right—_Next to the code_. You can see your code running as you type! Make sure you can see the flying UFO before you start modifying the code."
      ]
    },
    {
      "cell_type": "markdown",
      "metadata": {
        "id": "CXVjzRjKKn0L"
      },
      "source": [
        "### paste your glitch link here: "
      ]
    },
    {
      "cell_type": "raw",
      "metadata": {
        "id": "R9MjRilvKn0L"
      },
      "source": [
        "https://glitch.com/edit/#!/north-grand-humerus?path=ufo.py%3A21%3A21\n"
      ]
    }
  ],
  "metadata": {
    "kernelspec": {
      "display_name": "Python 3",
      "language": "python",
      "name": "python3"
    },
    "language_info": {
      "codemirror_mode": {
        "name": "ipython",
        "version": 3
      },
      "file_extension": ".py",
      "mimetype": "text/x-python",
      "name": "python",
      "nbconvert_exporter": "python",
      "pygments_lexer": "ipython3",
      "version": "3.8.5"
    },
    "colab": {
      "name": "Copy of ps0.ipynb",
      "provenance": [],
      "include_colab_link": true
    }
  },
  "nbformat": 4,
  "nbformat_minor": 0
}